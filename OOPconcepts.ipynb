{
  "nbformat": 4,
  "nbformat_minor": 0,
  "metadata": {
    "colab": {
      "provenance": [],
      "authorship_tag": "ABX9TyN0GfzLjauhcOWDWy4c+EvA",
      "include_colab_link": true
    },
    "kernelspec": {
      "name": "python3",
      "display_name": "Python 3"
    },
    "language_info": {
      "name": "python"
    }
  },
  "cells": [
    {
      "cell_type": "markdown",
      "metadata": {
        "id": "view-in-github",
        "colab_type": "text"
      },
      "source": [
        "<a href=\"https://colab.research.google.com/github/kenmanongsong/CPE-103-OOP-1-A/blob/main/OOPconcepts.ipynb\" target=\"_parent\"><img src=\"https://colab.research.google.com/assets/colab-badge.svg\" alt=\"Open In Colab\"/></a>"
      ]
    },
    {
      "cell_type": "code",
      "execution_count": null,
      "metadata": {
        "colab": {
          "base_uri": "https://localhost:8080/"
        },
        "id": "JugFJaWLxv-m",
        "outputId": "0b38c6f5-b0f7-4975-e60c-f46d8d04acfb"
      },
      "outputs": [
        {
          "output_type": "stream",
          "name": "stdout",
          "text": [
            "The BMW 7-series car gives the mileage of 39.52km/l\n",
            "This is the description method of class Audi\n"
          ]
        }
      ],
      "source": [
        "class Car:\n",
        "    car_type = \"Sedan\"\n",
        "\n",
        "    def __init__(self, name, mileage):\n",
        "        self.name = name\n",
        "        self.mileage = mileage\n",
        "\n",
        "    def description(self):\n",
        "        return f\"The {self.name} car gives the mileage of {self.mileage}km/l\"\n",
        "\n",
        "\n",
        "class BMW(Car): #child class\n",
        "    pass\n",
        "\n",
        "\n",
        "class Audi(Car):\n",
        "    def audi_desc(self):\n",
        "        return \"This is the description method of class Audi\"\n",
        "\n",
        "    obj1 = BMW(\"BMW 7-series\", 39.52)\n",
        "    print(obj1.description())\n",
        "\n",
        "    obj2 = Audi(\"Audi A8 L\", 14)\n",
        "    print(obj2.audi_desc())"
      ]
    },
    {
      "cell_type": "markdown",
      "source": [
        "Apply the OOP concept like class constructor, methods, inheritance to describe the sides of shapes (e.g. Triangle"
      ],
      "metadata": {
        "id": "U_b6y9dvErl9"
      }
    },
    {
      "cell_type": "code",
      "source": [
        "class Shapes:\n",
        "    def __init__(self, sides):\n",
        "        self.sides = sides\n",
        "\n",
        "\n",
        "def description(self):\n",
        "        return f\"This shape has {self.sides} sides.\"\n",
        "\n",
        "class Triangle(Shapes):\n",
        "    def __init__(self, sides, side_length):\n",
        "        super().__init__(sides)\n",
        "        self.side_length = side_length\n",
        "\n",
        "    def triangle(self):\n",
        "        return f\"The triangle has {self.sides} sides and side length {self.side_length}.\"\n",
        "\n",
        "class Square(Shapes):\n",
        "    def __init__(self, sides, side_length):\n",
        "        super().__init__(sides)\n",
        "        self.side_length = side_length\n",
        "\n",
        "    def square(self):\n",
        "        return f\"The square has {self.sides} sides and side length {self.side_length}.\"\n",
        "\n",
        "obj1 = Triangle(3, 5)\n",
        "print(obj1.triangle())\n",
        "\n",
        "obj2 = Square(4, 7)\n",
        "print(obj2.square())"
      ],
      "metadata": {
        "colab": {
          "base_uri": "https://localhost:8080/"
        },
        "id": "oJXnweijE8P8",
        "outputId": "1698f6c5-c403-4990-af09-c76f2248bf1c"
      },
      "execution_count": 50,
      "outputs": [
        {
          "output_type": "stream",
          "name": "stdout",
          "text": [
            "The triangle has 3 sides and side length 5.\n",
            "The square has 4 sides and side length 7.\n"
          ]
        }
      ]
    }
  ]
}